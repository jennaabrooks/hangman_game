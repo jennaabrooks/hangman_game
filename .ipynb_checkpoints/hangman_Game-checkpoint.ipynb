{
 "cells": [
  {
   "cell_type": "code",
   "execution_count": null,
   "id": "313f17d9",
   "metadata": {},
   "outputs": [],
   "source": [
    "from hangman_words import word_list\n",
    "import random\n",
    "from hangman_art import logo\n",
    "from IPython.display import clear_output"
   ]
  },
  {
   "cell_type": "code",
   "execution_count": null,
   "id": "63335eee",
   "metadata": {},
   "outputs": [],
   "source": [
    "#Computer chooses a word from the word_list and store the length of the word\n",
    "def choose_word():\n",
    "    chosen_word = random.choice(word_list)\n",
    "    word_length = len(chosen_word)\n",
    "    return word_length, chosen_word\n",
    "\n",
    "word_length, chosen_word = choose_word()"
   ]
  },
  {
   "cell_type": "code",
   "execution_count": 63,
   "id": "b3bb567a",
   "metadata": {},
   "outputs": [],
   "source": [
    "def display_art(word_length):\n",
    "    print(logo)  # Display the logo\n",
    "    display = [] #create spaces for the letters of the chosen word using word length\n",
    "    for _ in range(word_length):\n",
    "        display.append(\"_\") \n",
    "    return display\n"
   ]
  },
  {
   "cell_type": "code",
   "execution_count": null,
   "id": "44c31e59",
   "metadata": {},
   "outputs": [],
   "source": [
    "# Example usage\n",
    "display = display_art(word_length)\n",
    "print(\" \".join(display))  # Print the display with spaces between underscores"
   ]
  },
  {
   "cell_type": "code",
   "execution_count": null,
   "id": "543f67ec",
   "metadata": {},
   "outputs": [],
   "source": [
    "def still_alive():\n",
    "    lives = 6\n",
    "    while lives > 0:\n",
    "        return lives, True\n",
    "    \n",
    "still_alive()"
   ]
  },
  {
   "cell_type": "code",
   "execution_count": null,
   "id": "8bfa10be",
   "metadata": {},
   "outputs": [],
   "source": [
    "def guess_letter():\n",
    "    while still_alive():\n",
    "        guess = input(\"Guess a letter: \").lower()\n",
    "        clear_output(wait=True)\n",
    "        \n",
    "guess_letter()"
   ]
  },
  {
   "cell_type": "code",
   "execution_count": null,
   "id": "6cfbcc13",
   "metadata": {},
   "outputs": [
    {
     "name": "stdout",
     "output_type": "stream",
     "text": [
      " \n",
      " _                                             \n",
      "| |                                            \n",
      "| |__   __ _ _ __   __ _ _ __ ___   __ _ _ __  \n",
      "| '_ \\ / _` | '_ \\ / _` | '_ ` _ \\ / _` | '_ \\ \n",
      "| | | | (_| | | | | (_| | | | | | | (_| | | | |\n",
      "|_| |_|\\__,_|_| |_|\\__, |_| |_| |_|\\__,_|_| |_|\n",
      "                    __/ |                      \n",
      "                   |___/    \n",
      "Pssst, the solution is pneumonia.\n"
     ]
    }
   ],
   "source": [
    "\n",
    "#Testing code\n",
    "print(f'Pssst, the solution is {chosen_word}.')\n",
    "\n",
    "\n",
    "\n",
    "    #TODO-4: - If the user has entered a letter they've already guessed, print the letter and let them know.\n",
    "    #Check guessed letter\n",
    "    for position in range(word_length):\n",
    "        letter = chosen_word[position]\n",
    "        #print(f\"Current position: {position}\\n Current letter: {letter}\\n Guessed letter: {guess}\")\n",
    "        if letter in display:\n",
    "            print (f\"You have already guessed \\n {guess}. Please choose another letter.\")\n",
    "        elif letter == guess:\n",
    "            display[position] = letter\n",
    "            \n",
    "\n",
    "    #Check if user is wrong.\n",
    "    if guess not in chosen_word:\n",
    "        #TODO-5: - If the letter is not in the chosen_word, print out the letter and let them know it's not in the word.\n",
    "        print (f\"{guess} is not in the word. You lose a life. \")\n",
    "        lives -= 1\n",
    "        if lives == 0:\n",
    "            end_of_game = True\n",
    "            print(\"You lose.\")\n",
    "\n",
    "    #Join all the elements in the list and turn it into a String.\n",
    "    print(f\"{' '.join(display)}\")\n",
    "\n",
    "    #Check if user has got all letters.\n",
    "    if \"_\" not in display:\n",
    "        end_of_game = True\n",
    "        print(\"You win.\")\n",
    "\n",
    "    #TODO-2: - Import the stages from hangman_art.py and make this error go away.\n",
    "    from hangman_art import stages\n",
    "    print(stages[lives])"
   ]
  }
 ],
 "metadata": {
  "kernelspec": {
   "display_name": "Python 3 (ipykernel)",
   "language": "python",
   "name": "python3"
  },
  "language_info": {
   "codemirror_mode": {
    "name": "ipython",
    "version": 3
   },
   "file_extension": ".py",
   "mimetype": "text/x-python",
   "name": "python",
   "nbconvert_exporter": "python",
   "pygments_lexer": "ipython3",
   "version": "3.11.0"
  }
 },
 "nbformat": 4,
 "nbformat_minor": 5
}
