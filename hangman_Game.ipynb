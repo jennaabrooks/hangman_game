{
 "cells": [
  {
   "cell_type": "code",
   "execution_count": null,
   "id": "9ddd3acd",
   "metadata": {},
   "outputs": [
    {
     "name": "stdout",
     "output_type": "stream",
     "text": [
      "Good job! 'u' is in the word.\n",
      "\n",
      "  +---+\n",
      "  |   |\n",
      "  O   |\n",
      " /|\\  |\n",
      " /    |\n",
      "      |\n",
      "=========\n",
      "\n",
      "_ u _ _ _\n"
     ]
    }
   ],
   "source": [
    "import random\n",
    "from hangman_art import logo, stages  # Assuming stages and logo are imported correctly\n",
    "from hangman_words import word_list\n",
    "from IPython.display import clear_output\n",
    "\n",
    "# Function to choose a random word\n",
    "#good job\n",
    "def choose_word():\n",
    "    chosen_word = random.choice(word_list)\n",
    "    word_length = len(chosen_word)\n",
    "    return word_length, chosen_word\n",
    "\n",
    "# Function to display initial game art and underscores\n",
    "def display_art(word_length):\n",
    "    print(logo)  # Display the logo\n",
    "    display = [\"_\" for _ in range(word_length)]  # More concise way to generate display list\n",
    "    return display\n",
    "\n",
    "# Function to check if the user still has lives left\n",
    "def still_alive(lives):\n",
    "    return lives > 0\n",
    "\n",
    "# Function to process the user's guess and update the display\n",
    "def check_letter_in_word(word_length, chosen_word, display, guess):\n",
    "    correct_guess = False  # Track whether the guess was correct\n",
    "    for position in range(word_length):\n",
    "        letter = chosen_word[position]\n",
    "        if letter == guess:\n",
    "            display[position] = letter  # Replace underscore with the correct letter\n",
    "            correct_guess = True\n",
    "    return correct_guess\n",
    "\n",
    "# Main game loop\n",
    "def play_hangman():\n",
    "    # Step 1: Choose a word\n",
    "    word_length, chosen_word = choose_word()\n",
    "\n",
    "    # Step 2: Prepare the display and initialize game state\n",
    "    display = display_art(word_length)\n",
    "    lives = 6\n",
    "    end_of_game = False\n",
    "    guessed_letters = []\n",
    "\n",
    "    # Step 3: Main game loop\n",
    "    while not end_of_game:\n",
    "        print(f\"{' '.join(display)}\")  # Print current state of the word\n",
    "        guess = input(\"Guess a letter: \").lower()\n",
    "\n",
    "        clear_output(wait=True)  # Clear the screen for a cleaner interface\n",
    "\n",
    "        if guess in guessed_letters:\n",
    "            print(f\"You have already guessed '{guess}'. Please choose another letter.\")\n",
    "        else:\n",
    "            guessed_letters.append(guess)\n",
    "            if check_letter_in_word(word_length, chosen_word, display, guess):\n",
    "                print(f\"Good job! '{guess}' is in the word.\")\n",
    "            else:\n",
    "                lives -= 1\n",
    "                print(f\"'{guess}' is not in the word. You lose a life.\")\n",
    "        \n",
    "        print(stages[lives])  # Display the hangman stages based on lives\n",
    "        \n",
    "        # Step 4: Check if the game has ended\n",
    "        if \"_\" not in display:\n",
    "            end_of_game = True\n",
    "            print(\"Congratulations, you win!\")\n",
    "        elif not still_alive(lives):\n",
    "            end_of_game = True\n",
    "            print(f\"You lose. The word was '{chosen_word}'.\")\n",
    "\n",
    "# Run the game\n",
    "play_hangman()\n"
   ]
  },
  {
   "cell_type": "code",
   "execution_count": 11,
   "id": "ab8d6cd7",
   "metadata": {},
   "outputs": [
    {
     "ename": "KeyboardInterrupt",
     "evalue": "Interrupted by user",
     "output_type": "error",
     "traceback": [
      "\u001b[0;31m---------------------------------------------------------------------------\u001b[0m",
      "\u001b[0;31mKeyboardInterrupt\u001b[0m                         Traceback (most recent call last)",
      "Cell \u001b[0;32mIn[11], line 6\u001b[0m\n\u001b[1;32m      4\u001b[0m         clear_output(wait\u001b[38;5;241m=\u001b[39m\u001b[38;5;28;01mTrue\u001b[39;00m)\n\u001b[1;32m      5\u001b[0m     \u001b[38;5;28;01mreturn\u001b[39;00m guess\n\u001b[0;32m----> 6\u001b[0m guess_letter()\n",
      "Cell \u001b[0;32mIn[11], line 3\u001b[0m, in \u001b[0;36mguess_letter\u001b[0;34m()\u001b[0m\n\u001b[1;32m      1\u001b[0m \u001b[38;5;28;01mdef\u001b[39;00m \u001b[38;5;21mguess_letter\u001b[39m():\n\u001b[1;32m      2\u001b[0m     \u001b[38;5;28;01mwhile\u001b[39;00m still_alive():\n\u001b[0;32m----> 3\u001b[0m         guess \u001b[38;5;241m=\u001b[39m \u001b[38;5;28minput\u001b[39m(\u001b[38;5;124m\"\u001b[39m\u001b[38;5;124mGuess a letter: \u001b[39m\u001b[38;5;124m\"\u001b[39m)\u001b[38;5;241m.\u001b[39mlower()\n\u001b[1;32m      4\u001b[0m         clear_output(wait\u001b[38;5;241m=\u001b[39m\u001b[38;5;28;01mTrue\u001b[39;00m)\n\u001b[1;32m      5\u001b[0m     \u001b[38;5;28;01mreturn\u001b[39;00m guess\n",
      "File \u001b[0;32m~/anaconda3/lib/python3.11/site-packages/ipykernel/kernelbase.py:1175\u001b[0m, in \u001b[0;36mKernel.raw_input\u001b[0;34m(self, prompt)\u001b[0m\n\u001b[1;32m   1171\u001b[0m \u001b[38;5;28;01mif\u001b[39;00m \u001b[38;5;129;01mnot\u001b[39;00m \u001b[38;5;28mself\u001b[39m\u001b[38;5;241m.\u001b[39m_allow_stdin:\n\u001b[1;32m   1172\u001b[0m     \u001b[38;5;28;01mraise\u001b[39;00m StdinNotImplementedError(\n\u001b[1;32m   1173\u001b[0m         \u001b[38;5;124m\"\u001b[39m\u001b[38;5;124mraw_input was called, but this frontend does not support input requests.\u001b[39m\u001b[38;5;124m\"\u001b[39m\n\u001b[1;32m   1174\u001b[0m     )\n\u001b[0;32m-> 1175\u001b[0m \u001b[38;5;28;01mreturn\u001b[39;00m \u001b[38;5;28mself\u001b[39m\u001b[38;5;241m.\u001b[39m_input_request(\n\u001b[1;32m   1176\u001b[0m     \u001b[38;5;28mstr\u001b[39m(prompt),\n\u001b[1;32m   1177\u001b[0m     \u001b[38;5;28mself\u001b[39m\u001b[38;5;241m.\u001b[39m_parent_ident[\u001b[38;5;124m\"\u001b[39m\u001b[38;5;124mshell\u001b[39m\u001b[38;5;124m\"\u001b[39m],\n\u001b[1;32m   1178\u001b[0m     \u001b[38;5;28mself\u001b[39m\u001b[38;5;241m.\u001b[39mget_parent(\u001b[38;5;124m\"\u001b[39m\u001b[38;5;124mshell\u001b[39m\u001b[38;5;124m\"\u001b[39m),\n\u001b[1;32m   1179\u001b[0m     password\u001b[38;5;241m=\u001b[39m\u001b[38;5;28;01mFalse\u001b[39;00m,\n\u001b[1;32m   1180\u001b[0m )\n",
      "File \u001b[0;32m~/anaconda3/lib/python3.11/site-packages/ipykernel/kernelbase.py:1217\u001b[0m, in \u001b[0;36mKernel._input_request\u001b[0;34m(self, prompt, ident, parent, password)\u001b[0m\n\u001b[1;32m   1214\u001b[0m             \u001b[38;5;28;01mbreak\u001b[39;00m\n\u001b[1;32m   1215\u001b[0m \u001b[38;5;28;01mexcept\u001b[39;00m \u001b[38;5;167;01mKeyboardInterrupt\u001b[39;00m:\n\u001b[1;32m   1216\u001b[0m     \u001b[38;5;66;03m# re-raise KeyboardInterrupt, to truncate traceback\u001b[39;00m\n\u001b[0;32m-> 1217\u001b[0m     \u001b[38;5;28;01mraise\u001b[39;00m \u001b[38;5;167;01mKeyboardInterrupt\u001b[39;00m(\u001b[38;5;124m\"\u001b[39m\u001b[38;5;124mInterrupted by user\u001b[39m\u001b[38;5;124m\"\u001b[39m) \u001b[38;5;28;01mfrom\u001b[39;00m \u001b[38;5;28;01mNone\u001b[39;00m\n\u001b[1;32m   1218\u001b[0m \u001b[38;5;28;01mexcept\u001b[39;00m \u001b[38;5;167;01mException\u001b[39;00m:\n\u001b[1;32m   1219\u001b[0m     \u001b[38;5;28mself\u001b[39m\u001b[38;5;241m.\u001b[39mlog\u001b[38;5;241m.\u001b[39mwarning(\u001b[38;5;124m\"\u001b[39m\u001b[38;5;124mInvalid Message:\u001b[39m\u001b[38;5;124m\"\u001b[39m, exc_info\u001b[38;5;241m=\u001b[39m\u001b[38;5;28;01mTrue\u001b[39;00m)\n",
      "\u001b[0;31mKeyboardInterrupt\u001b[0m: Interrupted by user"
     ]
    }
   ],
   "source": [
    "def guess_letter():\n",
    "    while still_alive():\n",
    "        guess = input(\"Guess a letter: \").lower()\n",
    "        clear_output(wait=True)\n",
    "    return guess\n",
    "guess_letter()"
   ]
  },
  {
   "cell_type": "code",
   "execution_count": null,
   "id": "f0073afa",
   "metadata": {},
   "outputs": [],
   "source": [
    "def check_letter_in_word(word_length, chosen_word, display, guess):\n",
    "    for position in range(word_length):\n",
    "        letter = chosen_word[position]\n",
    "        if letter in display:\n",
    "            print (f\"You have already guessed \\n {guess}. Please choose another letter.\")\n",
    "        elif letter == guess:\n",
    "            display[position] = letter\n",
    "        elif guess not in chosen_word:\n",
    "            print (f\"{guess} is not in the word. You lose a life. \")\n",
    "            lives -= 1\n",
    "            \n"
   ]
  },
  {
   "cell_type": "code",
   "execution_count": null,
   "id": "cfc7d491",
   "metadata": {},
   "outputs": [],
   "source": []
  },
  {
   "cell_type": "code",
   "execution_count": null,
   "id": "6cfbcc13",
   "metadata": {},
   "outputs": [],
   "source": [
    "\n",
    "    #Check if user is wrong.\n",
    "        #TODO-5: - If the letter is not in the chosen_word, print out the letter and let them know it's not in the word.\n",
    "        \n",
    "        if lives == 0:\n",
    "            end_of_game = True\n",
    "            print(\"You lose.\")\n",
    "\n",
    "    #Join all the elements in the list and turn it into a String.\n",
    "    print(f\"{' '.join(display)}\")\n",
    "\n",
    "    #Check if user has got all letters.\n",
    "    if \"_\" not in display:\n",
    "        end_of_game = True\n",
    "        print(\"You win.\")\n",
    "\n",
    "    #TODO-2: - Import the stages from hangman_art.py and make this error go away.\n",
    "    from hangman_art import stages\n",
    "    print(stages[lives])"
   ]
  }
 ],
 "metadata": {
  "kernelspec": {
   "display_name": "Python 3 (ipykernel)",
   "language": "python",
   "name": "python3"
  },
  "language_info": {
   "codemirror_mode": {
    "name": "ipython",
    "version": 3
   },
   "file_extension": ".py",
   "mimetype": "text/x-python",
   "name": "python",
   "nbconvert_exporter": "python",
   "pygments_lexer": "ipython3",
   "version": "3.11.0"
  }
 },
 "nbformat": 4,
 "nbformat_minor": 5
}
