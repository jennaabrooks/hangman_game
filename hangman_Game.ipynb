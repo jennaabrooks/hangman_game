{
 "cells": [
  {
   "cell_type": "code",
   "execution_count": 2,
   "id": "313f17d9",
   "metadata": {},
   "outputs": [],
   "source": [
    "from hangman_words import word_list\n",
    "import random\n",
    "from hangman_art import logo\n",
    "from IPython.display import clear_output"
   ]
  },
  {
   "cell_type": "code",
   "execution_count": 3,
   "id": "b3c5dfd2",
   "metadata": {},
   "outputs": [],
   "source": [
    "#Computer chooses a word from the word_list and store the length of the word\n",
    "def choose_word():\n",
    "    chosen_word = random.choice(word_list)\n",
    "    word_length = len(chosen_word)\n",
    "    return word_length, chosen_word\n",
    "\n",
    "word_length, chosen_word = choose_word()"
   ]
  },
  {
   "cell_type": "code",
   "execution_count": 4,
   "id": "e2c4c054",
   "metadata": {},
   "outputs": [],
   "source": [
    "def display_art(word_length):\n",
    "    print(logo)  # Display the logo\n",
    "    display = [] #create spaces for the letters of the chosen word using word length\n",
    "    for _ in range(word_length):\n",
    "        display.append(\"_\") \n",
    "    return display\n"
   ]
  },
  {
   "cell_type": "code",
   "execution_count": 5,
   "id": "00b76bd9",
   "metadata": {},
   "outputs": [
    {
     "name": "stdout",
     "output_type": "stream",
     "text": [
      " \n",
      " _                                             \n",
      "| |                                            \n",
      "| |__   __ _ _ __   __ _ _ __ ___   __ _ _ __  \n",
      "| '_ \\ / _` | '_ \\ / _` | '_ ` _ \\ / _` | '_ \\ \n",
      "| | | | (_| | | | | (_| | | | | | | (_| | | | |\n",
      "|_| |_|\\__,_|_| |_|\\__, |_| |_| |_|\\__,_|_| |_|\n",
      "                    __/ |                      \n",
      "                   |___/    \n",
      "_ _ _ _ _ _\n"
     ]
    }
   ],
   "source": [
    "# Example usage\n",
    "display = display_art(word_length)\n",
    "print(\" \".join(display))  # Print the display with spaces between underscores"
   ]
  },
  {
   "cell_type": "code",
   "execution_count": 6,
   "id": "2708b6bc",
   "metadata": {},
   "outputs": [
    {
     "data": {
      "text/plain": [
       "(6, True)"
      ]
     },
     "execution_count": 6,
     "metadata": {},
     "output_type": "execute_result"
    }
   ],
   "source": [
    "def still_alive():\n",
    "    lives = 6\n",
    "    while lives > 0:\n",
    "        return lives, True\n",
    "    \n",
    "still_alive()"
   ]
  },
  {
   "cell_type": "code",
   "execution_count": null,
   "id": "4fd081d2",
   "metadata": {},
   "outputs": [],
   "source": [
    "def guess_letter():\n",
    "    while still_alive():\n",
    "        guess = input(\"Guess a letter: \").lower()\n",
    "        clear_output(wait=True)\n",
    "    return guess\n",
    "guess_letter()"
   ]
  },
  {
   "cell_type": "code",
   "execution_count": null,
   "id": "5f8e77cb",
   "metadata": {},
   "outputs": [],
   "source": [
    "def check_letter_in_word(word_length, chosen_word, display, guess):\n",
    "    for position in range(word_length):\n",
    "        letter = chosen_word[position]\n",
    "        if letter in display:\n",
    "            print (f\"You have already guessed \\n {guess}. Please choose another letter.\")\n",
    "        elif letter == guess:\n",
    "            display[position] = letter\n",
    "        elif guess not in chosen_word:\n",
    "            print (f\"{guess} is not in the word. You lose a life. \")\n",
    "            lives -= 1\n",
    "            \n"
   ]
  },
  {
   "cell_type": "code",
   "execution_count": null,
   "id": "b34d2090",
   "metadata": {},
   "outputs": [],
   "source": []
  },
  {
   "cell_type": "code",
   "execution_count": null,
   "id": "6cfbcc13",
   "metadata": {},
   "outputs": [],
   "source": [
    "\n",
    "    #Check if user is wrong.\n",
    "        #TODO-5: - If the letter is not in the chosen_word, print out the letter and let them know it's not in the word.\n",
    "        \n",
    "        if lives == 0:\n",
    "            end_of_game = True\n",
    "            print(\"You lose.\")\n",
    "\n",
    "    #Join all the elements in the list and turn it into a String.\n",
    "    print(f\"{' '.join(display)}\")\n",
    "\n",
    "    #Check if user has got all letters.\n",
    "    if \"_\" not in display:\n",
    "        end_of_game = True\n",
    "        print(\"You win.\")\n",
    "\n",
    "    #TODO-2: - Import the stages from hangman_art.py and make this error go away.\n",
    "    from hangman_art import stages\n",
    "    print(stages[lives])"
   ]
  }
 ],
 "metadata": {
  "kernelspec": {
   "display_name": "Python 3 (ipykernel)",
   "language": "python",
   "name": "python3"
  },
  "language_info": {
   "codemirror_mode": {
    "name": "ipython",
    "version": 3
   },
   "file_extension": ".py",
   "mimetype": "text/x-python",
   "name": "python",
   "nbconvert_exporter": "python",
   "pygments_lexer": "ipython3",
   "version": "3.11.0"
  }
 },
 "nbformat": 4,
 "nbformat_minor": 5
}
